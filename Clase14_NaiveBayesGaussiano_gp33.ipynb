{
 "cells": [
  {
   "cell_type": "markdown",
   "metadata": {},
   "source": [
    "# Clasificador Bayesiano Gaussiano"
   ]
  },
  {
   "cell_type": "code",
   "execution_count": 69,
   "metadata": {},
   "outputs": [],
   "source": [
    "import pandas as pd\n",
    "import numpy as np\n",
    "from sklearn.model_selection import train_test_split"
   ]
  },
  {
   "cell_type": "code",
   "execution_count": 70,
   "metadata": {},
   "outputs": [],
   "source": [
    "# exportar data\n",
    "data = pd.read_csv(\"diabetes.csv\")"
   ]
  },
  {
   "cell_type": "code",
   "execution_count": 71,
   "metadata": {},
   "outputs": [
    {
     "data": {
      "text/html": [
       "<div>\n",
       "<style scoped>\n",
       "    .dataframe tbody tr th:only-of-type {\n",
       "        vertical-align: middle;\n",
       "    }\n",
       "\n",
       "    .dataframe tbody tr th {\n",
       "        vertical-align: top;\n",
       "    }\n",
       "\n",
       "    .dataframe thead th {\n",
       "        text-align: right;\n",
       "    }\n",
       "</style>\n",
       "<table border=\"1\" class=\"dataframe\">\n",
       "  <thead>\n",
       "    <tr style=\"text-align: right;\">\n",
       "      <th></th>\n",
       "      <th>Pregnancies</th>\n",
       "      <th>Glucose</th>\n",
       "      <th>BloodPressure</th>\n",
       "      <th>SkinThickness</th>\n",
       "      <th>Insulin</th>\n",
       "      <th>BMI</th>\n",
       "      <th>DiabetesPedigreeFunction</th>\n",
       "      <th>Age</th>\n",
       "      <th>Outcome</th>\n",
       "    </tr>\n",
       "  </thead>\n",
       "  <tbody>\n",
       "    <tr>\n",
       "      <th>491</th>\n",
       "      <td>2</td>\n",
       "      <td>89</td>\n",
       "      <td>90</td>\n",
       "      <td>30</td>\n",
       "      <td>0</td>\n",
       "      <td>33.5</td>\n",
       "      <td>0.292</td>\n",
       "      <td>42</td>\n",
       "      <td>0</td>\n",
       "    </tr>\n",
       "    <tr>\n",
       "      <th>69</th>\n",
       "      <td>4</td>\n",
       "      <td>146</td>\n",
       "      <td>85</td>\n",
       "      <td>27</td>\n",
       "      <td>100</td>\n",
       "      <td>28.9</td>\n",
       "      <td>0.189</td>\n",
       "      <td>27</td>\n",
       "      <td>0</td>\n",
       "    </tr>\n",
       "    <tr>\n",
       "      <th>667</th>\n",
       "      <td>10</td>\n",
       "      <td>111</td>\n",
       "      <td>70</td>\n",
       "      <td>27</td>\n",
       "      <td>0</td>\n",
       "      <td>27.5</td>\n",
       "      <td>0.141</td>\n",
       "      <td>40</td>\n",
       "      <td>1</td>\n",
       "    </tr>\n",
       "    <tr>\n",
       "      <th>566</th>\n",
       "      <td>1</td>\n",
       "      <td>99</td>\n",
       "      <td>72</td>\n",
       "      <td>30</td>\n",
       "      <td>18</td>\n",
       "      <td>38.6</td>\n",
       "      <td>0.412</td>\n",
       "      <td>21</td>\n",
       "      <td>0</td>\n",
       "    </tr>\n",
       "    <tr>\n",
       "      <th>97</th>\n",
       "      <td>1</td>\n",
       "      <td>71</td>\n",
       "      <td>48</td>\n",
       "      <td>18</td>\n",
       "      <td>76</td>\n",
       "      <td>20.4</td>\n",
       "      <td>0.323</td>\n",
       "      <td>22</td>\n",
       "      <td>0</td>\n",
       "    </tr>\n",
       "    <tr>\n",
       "      <th>...</th>\n",
       "      <td>...</td>\n",
       "      <td>...</td>\n",
       "      <td>...</td>\n",
       "      <td>...</td>\n",
       "      <td>...</td>\n",
       "      <td>...</td>\n",
       "      <td>...</td>\n",
       "      <td>...</td>\n",
       "      <td>...</td>\n",
       "    </tr>\n",
       "    <tr>\n",
       "      <th>369</th>\n",
       "      <td>1</td>\n",
       "      <td>133</td>\n",
       "      <td>102</td>\n",
       "      <td>28</td>\n",
       "      <td>140</td>\n",
       "      <td>32.8</td>\n",
       "      <td>0.234</td>\n",
       "      <td>45</td>\n",
       "      <td>1</td>\n",
       "    </tr>\n",
       "    <tr>\n",
       "      <th>320</th>\n",
       "      <td>4</td>\n",
       "      <td>129</td>\n",
       "      <td>60</td>\n",
       "      <td>12</td>\n",
       "      <td>231</td>\n",
       "      <td>27.5</td>\n",
       "      <td>0.527</td>\n",
       "      <td>31</td>\n",
       "      <td>0</td>\n",
       "    </tr>\n",
       "    <tr>\n",
       "      <th>527</th>\n",
       "      <td>3</td>\n",
       "      <td>116</td>\n",
       "      <td>74</td>\n",
       "      <td>15</td>\n",
       "      <td>105</td>\n",
       "      <td>26.3</td>\n",
       "      <td>0.107</td>\n",
       "      <td>24</td>\n",
       "      <td>0</td>\n",
       "    </tr>\n",
       "    <tr>\n",
       "      <th>125</th>\n",
       "      <td>1</td>\n",
       "      <td>88</td>\n",
       "      <td>30</td>\n",
       "      <td>42</td>\n",
       "      <td>99</td>\n",
       "      <td>55.0</td>\n",
       "      <td>0.496</td>\n",
       "      <td>26</td>\n",
       "      <td>1</td>\n",
       "    </tr>\n",
       "    <tr>\n",
       "      <th>265</th>\n",
       "      <td>5</td>\n",
       "      <td>96</td>\n",
       "      <td>74</td>\n",
       "      <td>18</td>\n",
       "      <td>67</td>\n",
       "      <td>33.6</td>\n",
       "      <td>0.997</td>\n",
       "      <td>43</td>\n",
       "      <td>0</td>\n",
       "    </tr>\n",
       "  </tbody>\n",
       "</table>\n",
       "<p>537 rows × 9 columns</p>\n",
       "</div>"
      ],
      "text/plain": [
       "     Pregnancies  Glucose  BloodPressure  SkinThickness  Insulin   BMI  \\\n",
       "491            2       89             90             30        0  33.5   \n",
       "69             4      146             85             27      100  28.9   \n",
       "667           10      111             70             27        0  27.5   \n",
       "566            1       99             72             30       18  38.6   \n",
       "97             1       71             48             18       76  20.4   \n",
       "..           ...      ...            ...            ...      ...   ...   \n",
       "369            1      133            102             28      140  32.8   \n",
       "320            4      129             60             12      231  27.5   \n",
       "527            3      116             74             15      105  26.3   \n",
       "125            1       88             30             42       99  55.0   \n",
       "265            5       96             74             18       67  33.6   \n",
       "\n",
       "     DiabetesPedigreeFunction  Age  Outcome  \n",
       "491                     0.292   42        0  \n",
       "69                      0.189   27        0  \n",
       "667                     0.141   40        1  \n",
       "566                     0.412   21        0  \n",
       "97                      0.323   22        0  \n",
       "..                        ...  ...      ...  \n",
       "369                     0.234   45        1  \n",
       "320                     0.527   31        0  \n",
       "527                     0.107   24        0  \n",
       "125                     0.496   26        1  \n",
       "265                     0.997   43        0  \n",
       "\n",
       "[537 rows x 9 columns]"
      ]
     },
     "execution_count": 71,
     "metadata": {},
     "output_type": "execute_result"
    }
   ],
   "source": [
    "# division del dataset\n",
    "train_data, test_data = train_test_split(data, test_size=0.3, random_state=10)\n",
    "train_data"
   ]
  },
  {
   "cell_type": "markdown",
   "metadata": {},
   "source": [
    "Etapa de aprendizaje"
   ]
  },
  {
   "cell_type": "code",
   "execution_count": 72,
   "metadata": {},
   "outputs": [
    {
     "data": {
      "text/plain": [
       "array([0.66294227, 0.33705773])"
      ]
     },
     "execution_count": 72,
     "metadata": {},
     "output_type": "execute_result"
    }
   ],
   "source": [
    "# Aprender las prioris 0-NE, 1-E\n",
    "frecEnf = np.sum(train_data.iloc[:,-1] == 1)\n",
    "probPriori = np.array([train_data.shape[0]-frecEnf, frecEnf])/train_data.shape[0]\n",
    "probPriori"
   ]
  },
  {
   "cell_type": "code",
   "execution_count": 73,
   "metadata": {},
   "outputs": [
    {
     "data": {
      "text/plain": [
       "array([[3.240000e+00, 8.510000e+00, 4.880000e+00, 1.452000e+01],\n",
       "       [1.097800e+02, 7.252300e+02, 1.441000e+02, 1.007460e+03],\n",
       "       [6.811000e+01, 3.369000e+02, 7.196000e+01, 4.145200e+02],\n",
       "       [1.994000e+01, 2.086100e+02, 2.339000e+01, 3.102800e+02],\n",
       "       [7.163000e+01, 1.070690e+04, 1.127600e+02, 2.300126e+04],\n",
       "       [3.041000e+01, 5.970000e+01, 3.502000e+01, 4.955000e+01],\n",
       "       [4.300000e-01, 9.000000e-02, 5.300000e-01, 1.400000e-01],\n",
       "       [3.070000e+01, 1.263700e+02, 3.801000e+01, 1.292500e+02]])"
      ]
     },
     "execution_count": 73,
     "metadata": {},
     "output_type": "execute_result"
    }
   ],
   "source": [
    "# Aprender los Likelihood (estadisticos)\n",
    "nc = 2 # <--- Automatico\n",
    "nvariables = train_data.shape[1]-1\n",
    "estadisticos = np.zeros((nvariables,nc*2)) # reservar el espacio en memoria\n",
    "# obtener los estadísticos\n",
    "for i in range(0,nc): # clases\n",
    "    for j in range(0,nvariables): # variables\n",
    "        train_variableK = train_data[train_data.iloc[:,-1]==i].iloc[:,j]\n",
    "        estadisticos[j,0+2*i:2+2*i] = np.array([np.mean(train_variableK), \n",
    "                                        np.var(train_variableK)]).round(2)\n",
    "estadisticos # visualizar"
   ]
  },
  {
   "cell_type": "code",
   "execution_count": 74,
   "metadata": {},
   "outputs": [],
   "source": [
    "def fnGaussiana(x,mu,s2):\n",
    "    A = 1/(np.sqrt(2*np.pi*s2))\n",
    "    B = -0.5*((x-mu)**2/s2)\n",
    "    fg = A*np.exp(B) # vectorial\n",
    "    return fg"
   ]
  },
  {
   "cell_type": "markdown",
   "metadata": {},
   "source": [
    "Etapa de evaluación"
   ]
  },
  {
   "cell_type": "code",
   "execution_count": 87,
   "metadata": {},
   "outputs": [],
   "source": [
    "def fnPredict(test_data,estadisticos,probPriori):\n",
    "    predicciones = np.zeros(len(test_data),dtype=int)\n",
    "    probPosteriori = np.zeros(len(probPriori))\n",
    "    for k in range(0,len(test_data)): # numExamples\n",
    "        for i in range(0,nc): # clases\n",
    "            probPosteriori[i] = probPriori[i]\n",
    "            for j in range(0,nvariables): # variables\n",
    "                x = test_data.iloc[k,j]\n",
    "                mu = estadisticos[j,2*i]\n",
    "                s2 = estadisticos[j,2*i+1]\n",
    "                probPosteriori[i] = probPosteriori[i]*fnGaussiana(x,mu,s2)\n",
    "        predicciones[k] = np.argmax(probPosteriori)\n",
    "    return predicciones"
   ]
  },
  {
   "cell_type": "code",
   "execution_count": 91,
   "metadata": {},
   "outputs": [
    {
     "name": "stdout",
     "output_type": "stream",
     "text": [
      "[0 0 0 0 0 0 0 0 0 0 0 0 1 0 0 1 1 0 0 1 0 1 1 1 1 1 0 0 0 1 0 0 0 0 0 0 0\n",
      " 0 1 0 0 0 0 0 1 0 1 0 0 0 0 1 0 0 0 0 0 0 0 0 0 0 0 0 0 0 1 0 0 1 1 0 1 0\n",
      " 0 0 1 1 0 0 0 1 0 0 0 1 1 1 1 0 0 1 0 0 0 0 1 0 0 0 1 0 1 0 0 0 1 1 0 1 0\n",
      " 1 0 0 0 0 0 0 0 1 0 0 0 1 1 0 0 0 1 0 1 0 1 0 0 0 0 0 1 1 0 0 0 0 1 1 0 1\n",
      " 1 0 0 0 1 0 1 0 0 0 0 0 0 1 0 0 1 0 0 0 0 0 1 0 0 1 1 0 0 1 0 0 0 0 0 0 0\n",
      " 0 0 0 0 0 0 1 1 0 1 0 0 0 0 1 1 0 0 0 1 0 0 0 0 1 0 0 0 1 0 1 0 0 0 1 0 0\n",
      " 0 1 1 0 1 1 0 0 0]\n",
      "568    0\n",
      "620    0\n",
      "456    0\n",
      "197    1\n",
      "714    0\n",
      "      ..\n",
      "345    0\n",
      "408    1\n",
      "304    0\n",
      "686    0\n",
      "202    0\n",
      "Name: Outcome, Length: 231, dtype: int64\n"
     ]
    }
   ],
   "source": [
    "prediccion = fnPredict(test_data,estadisticos,probPriori)\n",
    "print(prediccion)\n",
    "real = test_data.iloc[:,-1]\n",
    "print(real)"
   ]
  }
 ],
 "metadata": {
  "kernelspec": {
   "display_name": "Python 3",
   "language": "python",
   "name": "python3"
  },
  "language_info": {
   "codemirror_mode": {
    "name": "ipython",
    "version": 3
   },
   "file_extension": ".py",
   "mimetype": "text/x-python",
   "name": "python",
   "nbconvert_exporter": "python",
   "pygments_lexer": "ipython3",
   "version": "3.9.1"
  }
 },
 "nbformat": 4,
 "nbformat_minor": 2
}
