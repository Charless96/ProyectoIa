{
 "cells": [
  {
   "cell_type": "markdown",
   "metadata": {},
   "source": [
    "# Proyecto Final\n",
    "\n",
    "### Equipo: CodeMonkeys\n",
    "### Materia: Inteligencia Artificial\n",
    "\n",
    "### Integrantes:\n",
    "\n",
    "- Díaz Villegas Erick\n",
    "- Hernandez García Carlos Zahid\n",
    "- Ordaz Rebollo Ximena\n"
   ]
  },
  {
   "cell_type": "markdown",
   "metadata": {},
   "source": [
    "## Lectura y preprocesado de datos general\n",
    "- Discretizar salida (G3)\n",
    "- Eliminar variables dependientes (G1, G2, Medu, Walc)\n",
    "- Separacion del dataset"
   ]
  },
  {
   "cell_type": "code",
   "execution_count": 3119,
   "metadata": {},
   "outputs": [],
   "source": [
    "#Importacion de librerias\n",
    "import pandas as pd\n",
    "import numpy as np\n",
    "from sklearn.model_selection import train_test_split\n",
    "from sklearn.preprocessing import KBinsDiscretizer\n",
    "from sklearn import metrics\n",
    "import networkx as nx\n",
    "import matplotlib.pyplot as plt"
   ]
  },
  {
   "cell_type": "markdown",
   "metadata": {},
   "source": [
    "### Funciones"
   ]
  },
  {
   "cell_type": "code",
   "execution_count": 3120,
   "metadata": {},
   "outputs": [],
   "source": [
    "#Funciones\n",
    "\n",
    "#Discretizar salida\n",
    "def fnDisc(x):\n",
    "    if(x>=10):\n",
    "        return 1\n",
    "    else:\n",
    "        return 0\n",
    "    \n",
    "#Funcion de probabilidad Gaussiana    \n",
    "def fnGaussiana(x,mu,s2):\n",
    "    A = 1/(np.sqrt(2*np.pi*s2))\n",
    "    B = -0.5*((x-mu)**2/s2)\n",
    "    fg = A*np.exp(B) # vectorial\n",
    "    return fg\n",
    "\n",
    "#Funcion de probabilidad Gumbel\n",
    "def fnGumbel(x, mu, beta):\n",
    "    z = (x - mu) / beta\n",
    "    fgum = (1 / beta) * np.exp(-(z + np.exp(-z)))\n",
    "    return fgum\n",
    "\n",
    "#Funcion de probabilidad Exponencial\n",
    "def fnExponencial(x, lamda):\n",
    "    fe = lamda * np.exp(-lamda * x)\n",
    "    return fe\n",
    "\n",
    "#Generar un grafo de dependencias a partir de un valor critico\n",
    "def fnDepGraph(data, axFn, crit):\n",
    "    datos = data.to_numpy()\n",
    "    mCorr = np.corrcoef(datos, rowvar=False).round(decimals=1)\n",
    "    colnames = data.columns.values\n",
    "\n",
    "    dependencias = np.abs(mCorr) >= crit\n",
    "\n",
    "    grafo = nx.Graph()\n",
    "\n",
    "    #Nodos y aristas\n",
    "    for i in range(len(mCorr)):\n",
    "        for j in range(len(mCorr)):\n",
    "            if (i != j and dependencias[i, j]):\n",
    "                grafo.add_edge(colnames[i], colnames[j], weight=mCorr[i,j])\n",
    "\n",
    "    pos = nx.circular_layout(grafo)\n",
    "\n",
    "    #Nodos\n",
    "    nx.draw_networkx_nodes(grafo, pos, ax=axFn, node_size=1000)\n",
    "\n",
    "    #Edges\n",
    "    nx.draw_networkx_edges(grafo, pos, ax=axFn, edgelist=grafo.edges)\n",
    "\n",
    "    #Node labels\n",
    "    nx.draw_networkx_labels(grafo, pos, ax=axFn, font_size=9)\n",
    "\n",
    "    #Edge labels\n",
    "    edgeLabels = nx.get_edge_attributes(grafo,\"weight\")\n",
    "    nx.draw_networkx_edge_labels(grafo, pos, ax=axFn, edge_labels=edgeLabels)"
   ]
  },
  {
   "cell_type": "markdown",
   "metadata": {},
   "source": [
    "### Funciones predicciones"
   ]
  },
  {
   "cell_type": "code",
   "execution_count": 3121,
   "metadata": {},
   "outputs": [],
   "source": [
    "#Funciones predicciones\n",
    "\n",
    "#Prediccion del Naive Bayes Gaussiano\n",
    "def fnPredictNBG(test_data,estadisticos,probPriori):\n",
    "    nvariables = test_data.shape[1]-1\n",
    "    predicciones = np.zeros(len(test_data),dtype=int)\n",
    "    probPosteriori = np.zeros(len(probPriori))\n",
    "\n",
    "    for k in range(0,len(test_data)): # filas\n",
    "        for i in range(0,len(probPriori)): # clases\n",
    "            probPosteriori[i] = np.log(probPriori[i]) #Obtener la priori de la clase\n",
    "            for j in range(0,nvariables): # variables/columnas\n",
    "                x = test_data.iloc[k,j]\n",
    "                mu = estadisticos[j,2*i]\n",
    "                s2 = estadisticos[j,2*i+1]\n",
    "                probPosteriori[i] += np.log(fnGaussiana(x,mu,s2))\n",
    "        predicciones[k] = np.argmax(probPosteriori)\n",
    "\n",
    "    return predicciones\n",
    "\n",
    "#Prediccion del Naive Bayes Multinomial\n",
    "def fnPredictNBM(data, priori, condicional):\n",
    "\n",
    "    colNames = data.columns.values\n",
    "    colNames = colNames[:-1]\n",
    "\n",
    "    predicciones = []\n",
    "\n",
    "    for value in data.values: #value es el vector de informacion (filas)\n",
    "        logReprobado = np.log(priori[0])\n",
    "        logAprobado = np.log(priori[1])\n",
    "\n",
    "        for x in range(0,len(colNames)): #Columnas\n",
    "            logReprobado += np.log(condicional.at[colNames[x],0][value[x]-1]) #-1 ya que los indices son del 0 al 4 y los valores del 1 al 5\n",
    "            logAprobado += np.log(condicional.at[colNames[x],1][value[x]-1]) #igual que arriba\n",
    "\n",
    "        if logReprobado > logAprobado:\n",
    "            predicciones.append(0)  \n",
    "        else:\n",
    "            predicciones.append(1)  \n",
    "    \n",
    "    return predicciones\n",
    "\n",
    "#Prediccion del Naive Bayes Mixto\n",
    "def fnPredictNBMix(test_data, estadisticos_mixto, probPriori):\n",
    "    nvariables = test_data.shape[1] - 1\n",
    "    predicciones = np.zeros(len(test_data), dtype=int)\n",
    "    prob_posteriori = np.zeros(len(probPriori))\n",
    "    \n",
    "    for k in range(len(test_data)):  # Filas\n",
    "        for i in range(len(probPriori)):  #Clases\n",
    "            prob_posteriori[i] = np.log(probPriori[i])\n",
    "            for j in range(nvariables):  # Columnas (o variables)\n",
    "                x = test_data.iloc[k, j]  # Valor\n",
    "                col_name = test_data.columns[j]\n",
    "                \n",
    "                # Funcion de densidad segun el analisis anterior\n",
    "                if col_name in ['age', 'Fedu', 'freetime', 'goout']:  #Gaussiana\n",
    "                    media = estadisticos_mixto[j, 3 * i]\n",
    "                    std = estadisticos_mixto[j, 3 * i + 2]  # Nota: la desviación estándar cuadrada es la varianza\n",
    "                    \n",
    "                    prob_posteriori[i] += np.log(fnGaussiana(x, media, std))\n",
    "\n",
    "                elif col_name in ['studytime', 'famrel', 'health']:  #Gumbel\n",
    "                    moda = estadisticos_mixto[j, 3 * i + 1]\n",
    "                    std = estadisticos_mixto[j, (3 * i + 2)]\n",
    "                    beta = std*0.78\n",
    "\n",
    "                    prob_posteriori[i] += np.log(fnGumbel(x, moda, beta))\n",
    "                    \n",
    "                else:  # Exponencial\n",
    "                    media = estadisticos_mixto[j, 3 * i]\n",
    "                    lamda = 1/media\n",
    "\n",
    "                    prob_posteriori[i] += np.log(fnExponencial(x, lamda))\n",
    "        \n",
    "        predicciones[k] = np.argmax(prob_posteriori)\n",
    "    \n",
    "    return predicciones"
   ]
  },
  {
   "cell_type": "markdown",
   "metadata": {},
   "source": [
    "### Lectura de datos"
   ]
  },
  {
   "cell_type": "code",
   "execution_count": 3122,
   "metadata": {},
   "outputs": [],
   "source": [
    "# Importar data\n",
    "data = pd.read_csv(\"student-mat.csv\", sep=';')\n",
    "\n",
    "#Variables utilizadas en el analisis\n",
    "data = data.loc[:,['age','Medu','Fedu','traveltime','studytime','failures','famrel','freetime','goout','Dalc','Walc','health','absences','G1','G2','G3']]\n",
    "colNames = data.columns.values"
   ]
  },
  {
   "cell_type": "markdown",
   "metadata": {},
   "source": [
    "### Grafo de dependencias"
   ]
  },
  {
   "cell_type": "code",
   "execution_count": 3123,
   "metadata": {},
   "outputs": [
    {
     "data": {
      "image/png": "[encoded data removed]",
      "text/plain": [
       "<Figure size 640x480 with 1 Axes>"
      ]
     },
     "metadata": {},
     "output_type": "display_data"
    }
   ],
   "source": [
    "# Realizar matriz de correlacion y grafo de dependencias del trabajo anterior\n",
    "mCorr = data.corr().round(2)\n",
    "\n",
    "#Grafo con las dependencias más significativas\n",
    "fig, ax = plt.subplots()\n",
    "fnDepGraph(data=data, axFn=ax, crit=0.429) #Valor de spearman\n",
    "ax.set_title(\"Grafo de dependencias\")\n",
    "ax.text(-1.3,-1.3,\"Valor crítico: 0.429 (16 variables)\")\n",
    "plt.axis(\"off\")\n",
    "plt.tight_layout()\n",
    "plt.show()\n"
   ]
  },
  {
   "cell_type": "markdown",
   "metadata": {},
   "source": [
    "### Preprocesado "
   ]
  },
  {
   "cell_type": "code",
   "execution_count": 3124,
   "metadata": {},
   "outputs": [],
   "source": [
    "#Eliminar las variables dependientes\n",
    "data = data.loc[:, ~data.columns.isin(['G1', 'G2', 'Medu', 'Walc'])]"
   ]
  },
  {
   "cell_type": "code",
   "execution_count": 3125,
   "metadata": {},
   "outputs": [
    {
     "data": {
      "image/png": "[encoded data removed]",
      "text/plain": [
       "<Figure size 640x480 with 2 Axes>"
      ]
     },
     "metadata": {},
     "output_type": "display_data"
    }
   ],
   "source": [
    "#Discretizacion de salida G3\n",
    "G3Col = data['G3'].apply(fnDisc)\n",
    "\n",
    "# Gráfico de barras G3 (Antes vs Despues)\n",
    "fig, ax = plt.subplots(1,2)\n",
    "\n",
    "#Antes\n",
    "frecuencias = data['G3'].value_counts()\n",
    "ax[0].bar(frecuencias.index, frecuencias.values, edgecolor='black')\n",
    "ax[0].set_xticks(np.linspace(min(frecuencias.index), max(frecuencias.index), num=3))\n",
    "ax[0].set_xlabel('Valor')\n",
    "ax[0].set_ylabel('Frecuencia')\n",
    "ax[0].set_title('Antes')\n",
    "\n",
    "#Despues\n",
    "frecuencias = G3Col.value_counts()\n",
    "ax[1].bar(frecuencias.index, frecuencias.values, edgecolor='black')\n",
    "ax[1].set_xticks(frecuencias.index)\n",
    "ax[1].set_xlabel('Valor')\n",
    "ax[1].set_title('Después')\n",
    "\n",
    "fig.suptitle('Cambio de G3')\n",
    "plt.show()\n",
    "\n",
    "data['G3'] = G3Col"
   ]
  },
  {
   "cell_type": "code",
   "execution_count": 3126,
   "metadata": {},
   "outputs": [],
   "source": [
    "#Separacion del dataset (80-20)\n",
    "train_data, test_data = train_test_split(data, test_size=0.2, random_state=1)"
   ]
  },
  {
   "cell_type": "markdown",
   "metadata": {},
   "source": [
    "## Naive Bayes Gaussiano"
   ]
  },
  {
   "cell_type": "markdown",
   "metadata": {},
   "source": [
    "### Aprendizaje"
   ]
  },
  {
   "cell_type": "code",
   "execution_count": 3127,
   "metadata": {},
   "outputs": [],
   "source": [
    "#Aprender las prioris\n",
    "frecEnf = np.sum(train_data.iloc[:,-1] == 1)\n",
    "probPriori = np.array([train_data.shape[0]-frecEnf, frecEnf])/train_data.shape[0]"
   ]
  },
  {
   "cell_type": "code",
   "execution_count": 3128,
   "metadata": {},
   "outputs": [],
   "source": [
    "# Aprender los Likelihood (estadisticos)\n",
    "nc = data.iloc[:,-1].nunique() # <--- Automatico\n",
    "nvariables = train_data.shape[1]-1\n",
    "estadisticosNBG = np.zeros((nvariables,nc*2)) # reservar el espacio en memoria\n",
    "\n",
    "# obtener los estadísticos\n",
    "for i in range(0,nc): # clases\n",
    "    for j in range(0,nvariables): # variables\n",
    "        train_variableK = train_data[train_data.iloc[:,-1]==i].iloc[:,j]\n",
    "        estadisticosNBG[j,0+2*i:2+2*i] = np.array([np.mean(train_variableK), \n",
    "                                        np.var(train_variableK)]).round(2)"
   ]
  },
  {
   "cell_type": "markdown",
   "metadata": {},
   "source": [
    "### Prediccion"
   ]
  },
  {
   "cell_type": "code",
   "execution_count": 3129,
   "metadata": {},
   "outputs": [
    {
     "name": "stdout",
     "output_type": "stream",
     "text": [
      "[[14 10]\n",
      " [ 5 50]]\n",
      "81.01%\n"
     ]
    }
   ],
   "source": [
    "NBGprediccion = fnPredictNBG(test_data,estadisticosNBG,probPriori)\n",
    "real = test_data.iloc[:,-1]\n",
    "\n",
    "#Matriz de confusion\n",
    "mConfNBG = metrics.confusion_matrix(real,NBGprediccion)\n",
    "print(mConfNBG)\n",
    "\n",
    "NBGrendimiento = sum(NBGprediccion == real) / test_data.shape[0]\n",
    "print(str(round(NBGrendimiento*100,2))+'%')"
   ]
  },
  {
   "cell_type": "markdown",
   "metadata": {},
   "source": [
    "## Naive Bayes Multinomial"
   ]
  },
  {
   "cell_type": "markdown",
   "metadata": {},
   "source": [
    "### Preprocesado para multinomial\n",
    "- Discretizacion de age y absences\n",
    "- Estandarizacion de valores (todos del 1 al 5) para facilitar acceso mediante indices"
   ]
  },
  {
   "cell_type": "code",
   "execution_count": 3130,
   "metadata": {},
   "outputs": [],
   "source": [
    "#Nuevos DF para almacenar la info con los discretizados\n",
    "train_data_mult = train_data.copy()\n",
    "test_data_mult = test_data.copy()\n",
    "\n",
    "################\n",
    "\n",
    "#Discretizar age\n",
    "ageDiscretizer = KBinsDiscretizer(n_bins=5, encode='ordinal', strategy='uniform')\n",
    "ageDiscretizer.fit(data[['age']])\n",
    "\n",
    "trainAgeDisc = ageDiscretizer.transform(train_data[['age']])\n",
    "testAgeDisc = ageDiscretizer.transform(test_data[['age']])\n",
    "\n",
    "# Convertir los resultados a DataFrames\n",
    "trainAgeDisc = pd.DataFrame(trainAgeDisc, columns=['age'])\n",
    "testAgeDisc = pd.DataFrame(testAgeDisc, columns=['age'])\n",
    "\n",
    "# Si no se copian los indices entonces creara nulls al pasar los datos de la columna discretizada a la del DF\n",
    "trainAgeDisc.index = train_data_mult.index\n",
    "testAgeDisc.index = test_data_mult.index\n",
    "\n",
    "#Convertir a enteros\n",
    "train_data_mult['age'] = trainAgeDisc.astype(int)\n",
    "test_data_mult['age'] = testAgeDisc.astype(int)\n",
    "\n",
    "\n",
    "################\n",
    "\n",
    "\n",
    "#Discretizar absences\n",
    "absDiscretizer = KBinsDiscretizer(n_bins=5, encode='ordinal', strategy='uniform')\n",
    "absDiscretizer.fit(data[['absences']])\n",
    "\n",
    "trainAbsDisc = absDiscretizer.transform(train_data[['absences']])\n",
    "testAbsDisc = absDiscretizer.transform(test_data[['absences']])\n",
    "\n",
    "# Convertir los resultados a DataFrames\n",
    "trainAbsDisc = pd.DataFrame(trainAbsDisc, columns=['absences'])\n",
    "testAbsDisc = pd.DataFrame(testAbsDisc, columns=['absences'])\n",
    "\n",
    "# Si no se copian los indices entonces creara nulls al pasar los datos de la columna discretizada a la del DF\n",
    "trainAbsDisc.index = train_data_mult.index\n",
    "testAbsDisc.index = test_data_mult.index\n",
    "\n",
    "#Convertir a enteros\n",
    "train_data_mult['absences'] = trainAbsDisc.astype(int)\n",
    "test_data_mult['absences'] = testAbsDisc.astype(int)"
   ]
  },
  {
   "cell_type": "code",
   "execution_count": 3131,
   "metadata": {},
   "outputs": [],
   "source": [
    "#Aumentar las que van de 0-4 a 1-5 (age, fedu, failures, absences)\n",
    "#Esto fue para facilitar el acceso a indices estadisticos\n",
    "\n",
    "train_data_mult['age'] += 1\n",
    "test_data_mult['age'] += 1\n",
    "\n",
    "train_data_mult['Fedu'] += 1\n",
    "test_data_mult['Fedu'] += 1\n",
    "\n",
    "train_data_mult['failures'] += 1\n",
    "test_data_mult['failures'] += 1\n",
    "\n",
    "train_data_mult['absences'] += 1\n",
    "test_data_mult['absences'] += 1"
   ]
  },
  {
   "cell_type": "markdown",
   "metadata": {},
   "source": [
    "### Aprendizaje"
   ]
  },
  {
   "cell_type": "code",
   "execution_count": 3132,
   "metadata": {},
   "outputs": [],
   "source": [
    "#Las prob a priori son las mismas \n",
    "probPrioriNBM = probPriori\n",
    "\n",
    "#Calcular las probs condicionales\n",
    "\n",
    "#Reservar el espacio arreglo de 5 posibles valores en una matriz de (numero de variables)(numero de clases) \n",
    "colNamesNBM = data.columns.values\n",
    "colNamesNBM = colNamesNBM[:-1]\n",
    "\n",
    "espacio = [[np.zeros(5) for _ in range(nc)] for _ in range(len(colNamesNBM)) ]\n",
    "\n",
    "probCondNBM = pd.DataFrame(espacio, columns=data.iloc[:,-1].unique())\n",
    "probCondNBM.index = colNamesNBM"
   ]
  },
  {
   "cell_type": "code",
   "execution_count": 3133,
   "metadata": {},
   "outputs": [],
   "source": [
    "#Obtener las frecuencias de cada variable\n",
    "for clase in probCondNBM.columns.values: #clases (0 y 1)\n",
    "    subset = train_data_mult[train_data_mult.iloc[:,-1] == clase] #data solo con la salida de una clase en especifico\n",
    "    for col in colNamesNBM: #Columna\n",
    "        for value in range(1,6): #Valores (1-5)\n",
    "            countValue = subset[col].value_counts().get(value, 0) #Frecuencia\n",
    "            countValue += 1 #para evitar 0's\n",
    "            totalClass = len(subset) #total \n",
    "            probCondNBM.at[col, clase][value-1] = round((countValue / totalClass),3) #probabilidad\n"
   ]
  },
  {
   "cell_type": "markdown",
   "metadata": {},
   "source": [
    "### Prediccion"
   ]
  },
  {
   "cell_type": "code",
   "execution_count": 3134,
   "metadata": {},
   "outputs": [
    {
     "name": "stdout",
     "output_type": "stream",
     "text": [
      "[[14 10]\n",
      " [14 41]]\n",
      "69.62%\n"
     ]
    }
   ],
   "source": [
    "NBMprediccion = fnPredictNBM(test_data_mult, probPrioriNBM, probCondNBM)\n",
    "NBMprediccion = np.asarray(NBMprediccion)\n",
    "\n",
    "#Matriz de confusion\n",
    "mConfNBM = metrics.confusion_matrix(real,NBMprediccion)\n",
    "print(mConfNBM)\n",
    "\n",
    "NBMrendimiento = sum(NBMprediccion == real) / test_data.shape[0]\n",
    "print(str(round(NBMrendimiento*100,2))+'%')"
   ]
  },
  {
   "cell_type": "markdown",
   "metadata": {},
   "source": [
    "## Naive Bayes Mixto\n",
    "- Funciones de probabilidad segun el histograma del analisis anterior"
   ]
  },
  {
   "cell_type": "markdown",
   "metadata": {},
   "source": [
    "### Aprendizaje"
   ]
  },
  {
   "cell_type": "code",
   "execution_count": 3135,
   "metadata": {},
   "outputs": [],
   "source": [
    "# Aprender los Likelihood (estadisticos)\n",
    "nc = data.iloc[:,-1].nunique() # <--- Automatico\n",
    "nvariables = train_data.shape[1]-1\n",
    "estadisticosNBMix = np.zeros((nvariables,nc*3)) # reservar el espacio en memoria\n",
    "# obtener los estadísticos\n",
    "for i in range(0,nc): # clases\n",
    "    for j in range(0,nvariables): # variables\n",
    "        train_variableK = train_data[train_data.iloc[:,-1]==i].iloc[:,j]\n",
    "\n",
    "        #A partir de estos 3 se puede calcular lo necesario para las funciones de probabilidad\n",
    "        media = np.mean(train_variableK) #Media\n",
    "        moda = train_variableK.mode().max()  # Moda\n",
    "        desviacion_estandar = train_variableK.std() #Desviacion estandar\n",
    "\n",
    "        estadisticosNBMix[j,0+3*i:3+3*i] = np.array([media, \n",
    "                                        moda,\n",
    "                                        desviacion_estandar])\n",
    "        \n",
    "        #Posiciones posibles de:\n",
    "        #Media:0, 3\n",
    "        #Moda:1, 4\n",
    "        #Desviacion estandar:2, 5"
   ]
  },
  {
   "cell_type": "markdown",
   "metadata": {},
   "source": [
    "### Prediccion"
   ]
  },
  {
   "cell_type": "code",
   "execution_count": 3136,
   "metadata": {},
   "outputs": [
    {
     "name": "stdout",
     "output_type": "stream",
     "text": [
      "[[13 11]\n",
      " [ 4 51]]\n",
      "81.01%\n"
     ]
    }
   ],
   "source": [
    "# Realizar predicciones\n",
    "NBMixprediccion = fnPredictNBMix(test_data, estadisticosNBMix, probPriori)\n",
    "\n",
    "#Matriz de confusion\n",
    "mConfNBMix = metrics.confusion_matrix(real,NBMixprediccion)\n",
    "print(mConfNBMix)\n",
    "\n",
    "#Rendimiento\n",
    "NBMixrendimiento = sum(NBMixprediccion == real) / test_data.shape[0]\n",
    "print(str(round(NBMixrendimiento*100,2))+'%')"
   ]
  },
  {
   "cell_type": "markdown",
   "metadata": {},
   "source": [
    "## Implementacion de ensamble de Naive Bayes"
   ]
  },
  {
   "cell_type": "code",
   "execution_count": 3137,
   "metadata": {},
   "outputs": [],
   "source": [
    "NBEprediccion = np.vstack((NBGprediccion, NBMprediccion, NBMixprediccion)).T\n",
    "NBEprediccion = pd.DataFrame(NBEprediccion, columns=['Gaussiano','Multinomial','Mixto'])\n",
    "modaPredicciones = NBEprediccion.mode(axis=1)[0] #si no se pone el [0] se pasan como arreglos\n",
    "modaPredicciones = modaPredicciones.to_numpy() #para poder hacer la matriz "
   ]
  },
  {
   "cell_type": "code",
   "execution_count": 3138,
   "metadata": {},
   "outputs": [
    {
     "name": "stdout",
     "output_type": "stream",
     "text": [
      "[[15  9]\n",
      " [ 5 50]]\n",
      "82.28%\n"
     ]
    }
   ],
   "source": [
    "#Matriz de confusion\n",
    "mConfNBE = metrics.confusion_matrix(real,modaPredicciones)\n",
    "print(mConfNBE)\n",
    "\n",
    "#Rendimiento\n",
    "NBErendimiento = sum(modaPredicciones == real) / test_data.shape[0]\n",
    "print(str(round(NBErendimiento*100,2))+'%')"
   ]
  },
  {
   "cell_type": "markdown",
   "metadata": {},
   "source": [
    "### Resultados por modelo"
   ]
  },
  {
   "cell_type": "code",
   "execution_count": 3139,
   "metadata": {},
   "outputs": [
    {
     "name": "stdout",
     "output_type": "stream",
     "text": [
      "Naive Bayes Gaussiano (NBG):\n",
      "81.01% \n",
      "\n",
      "Naive Bayes Multinomial (NBM):\n",
      "69.62% \n",
      "\n",
      "Naive Bayes Mixto (NBMix):\n",
      "81.01% \n",
      "\n",
      "Ensamble de Naive Bayes (NBE):\n",
      "82.28% \n",
      "\n"
     ]
    }
   ],
   "source": [
    "print(\"Naive Bayes Gaussiano (NBG):\")\n",
    "print(str(round(NBGrendimiento*100,2))+'% \\n')\n",
    "\n",
    "print(\"Naive Bayes Multinomial (NBM):\")\n",
    "print(str(round(NBMrendimiento*100,2))+'% \\n')\n",
    "\n",
    "print(\"Naive Bayes Mixto (NBMix):\")\n",
    "print(str(round(NBMixrendimiento*100,2))+'% \\n')\n",
    "\n",
    "print(\"Ensamble de Naive Bayes (NBE):\")\n",
    "print(str(round(NBErendimiento*100,2))+'% \\n')"
   ]
  }
 ],
 "metadata": {
  "kernelspec": {
   "display_name": "Python 3",
   "language": "python",
   "name": "python3"
  },
  "language_info": {
   "codemirror_mode": {
    "name": "ipython",
    "version": 3
   },
   "file_extension": ".py",
   "mimetype": "text/x-python",
   "name": "python",
   "nbconvert_exporter": "python",
   "pygments_lexer": "ipython3",
   "version": "3.11.9"
  }
 },
 "nbformat": 4,
 "nbformat_minor": 2
}
